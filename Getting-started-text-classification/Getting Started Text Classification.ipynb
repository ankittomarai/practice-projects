{
 "cells": [
  {
   "attachments": {},
   "cell_type": "markdown",
   "metadata": {},
   "source": [
    "# Getting started with the text classification\n",
    "\n",
    "Problem statement :\n",
    "\n",
    "Ankit Tomar, who is a Life sciences researcher does Pharmacovigilance (post-market drug safety surveillance) for Pharma Products.\n",
    "\n",
    "Pharmacovigilance identifies ADRs (adverse drug reactions) after a drug’s release. Comprehensive knowledge of ADRs can reduce the detrimental impact on patient’s health system. Practically, clinical trials cannot investigate all settings in which a drug will be used, making it impossible to fully characterize the drug’s adverse effect profile before its approval. Pharmacovigilance methods continuously analyse frequently updated data sources, Twitter in particularly because of its large user base, demographic variability, and publicly available data.\n",
    "ADR detection in social media requires automated methods to process the high data volume. It would greatly help her if she is able to automate the segmentation of Tweet into either ADR or NON- ADR, on the basis of Drug, Symptom and Effect mentioned in future.\n",
    "\n",
    "###### What shall we do?\n",
    "\n",
    "We shall build a system to classify the Tweet into the 2 segments. We shall be representing our approach and develop the python Code for the same.\n",
    "\n",
    "###### Evaluation Matrix\n",
    "Performance will be measured using accuracy matrix and it needs to be 85+ for acceptance of the solution. \n",
    "\n",
    "#### Data Source:\n",
    "Attached data set (data.csv) has tweets labelled as ADR and NON-ADR. The file has information which contains column like user IDs, tweet IDs, and label along with the tweet.\n",
    "\n",
    "\n",
    "Assumptions\n",
    "1. In this particular case, Classification is not happening on real time tweets. Since Dataset is very specific. \n",
    "2. In case, we want to have real time analysis on twitter, we can use Twitter APIs - tweepy (This is excluded from the solution as we have csv dataset)\n",
    "\n",
    "#### Approach \n",
    "It is a binary classification problem where we need to automate the tweet data classification - ADR or Non-ADR\n",
    "1. Import the data \n",
    "2. Understand the data and start EDA process\n",
    "3. Work on Tweet Column \n",
    "    - Change the text to lower case\n",
    "    - Remove the punctuations\n",
    "    - Remove the stopwords from the tweets by using stopwords from nltk\n",
    "    - Tokenize the twitter data\n",
    "    - Lemmatize for stemming of the data\n",
    "    - Split the data into training and testing \n",
    "    - Feature engineering using TF-IDF \n",
    "    \n",
    "4. Build baseline model and validate the accuracy by classification and confusion matrix\n",
    "  Logistic Regression-  Accuracy:  0.8520408163265306\n",
    "\n",
    "5. Try multiple algorithms to look for the good accuracy\n",
    "        Naive Bayes Accuracy Score ->  83.26955782312925\n",
    "        SDG Accuracy Score             0.7329931972789115\n",
    "        Randome forest                 0.8775510204081632\n",
    "\n",
    "    So we go with Random forest as an algo for this model. \n",
    " \n",
    "#### Next steps: \n",
    "1. Automation \n",
    "2. Save the model \n",
    "3. Deploy \n",
    "\n",
    "Hints: \n",
    "\n",
    "  - Use twitter API keys to automate the process\n",
    "  - We can do hyperparater tunning with K-Fold cross validation and many more to improve the accuracy \n",
    "  - Use Pickel library to load the model\n",
    "  - Use flask for API creation \n",
    "  - Deploy it to any cloud platform - Azure/GCP/AWS SageMaker etc."
   ]
  },
  {
   "cell_type": "markdown",
   "metadata": {},
   "source": [
    "## Python Code"
   ]
  },
  {
   "cell_type": "code",
   "execution_count": 1,
   "metadata": {},
   "outputs": [],
   "source": [
    "# Import the libraries\n",
    "import pandas as pd\n",
    "import numpy as np\n",
    "import string\n",
    "import nltk "
   ]
  },
  {
   "cell_type": "code",
   "execution_count": 2,
   "metadata": {},
   "outputs": [],
   "source": [
    "#import metrics library\n",
    "from sklearn import metrics\n",
    "from sklearn.metrics import confusion_matrix, classification_report, accuracy_score"
   ]
  },
  {
   "cell_type": "code",
   "execution_count": 3,
   "metadata": {},
   "outputs": [
    {
     "data": {
      "text/html": [
       "<div>\n",
       "<style scoped>\n",
       "    .dataframe tbody tr th:only-of-type {\n",
       "        vertical-align: middle;\n",
       "    }\n",
       "\n",
       "    .dataframe tbody tr th {\n",
       "        vertical-align: top;\n",
       "    }\n",
       "\n",
       "    .dataframe thead th {\n",
       "        text-align: right;\n",
       "    }\n",
       "</style>\n",
       "<table border=\"1\" class=\"dataframe\">\n",
       "  <thead>\n",
       "    <tr style=\"text-align: right;\">\n",
       "      <th></th>\n",
       "      <th>UserId</th>\n",
       "      <th>TweetId</th>\n",
       "      <th>Tweet</th>\n",
       "      <th>ADR_label</th>\n",
       "    </tr>\n",
       "  </thead>\n",
       "  <tbody>\n",
       "    <tr>\n",
       "      <th>0</th>\n",
       "      <td>10030778</td>\n",
       "      <td>413205</td>\n",
       "      <td>Intravenous azithromycin-induced ototoxicity.</td>\n",
       "      <td>1</td>\n",
       "    </tr>\n",
       "    <tr>\n",
       "      <th>1</th>\n",
       "      <td>10048291</td>\n",
       "      <td>528244</td>\n",
       "      <td>Immobilization, while Paget's bone disease was...</td>\n",
       "      <td>1</td>\n",
       "    </tr>\n",
       "    <tr>\n",
       "      <th>2</th>\n",
       "      <td>10048291</td>\n",
       "      <td>361834</td>\n",
       "      <td>Unaccountable severe hypercalcemia in a patien...</td>\n",
       "      <td>1</td>\n",
       "    </tr>\n",
       "    <tr>\n",
       "      <th>3</th>\n",
       "      <td>10082597</td>\n",
       "      <td>292240</td>\n",
       "      <td>METHODS: We report two cases of pseudoporphyri...</td>\n",
       "      <td>1</td>\n",
       "    </tr>\n",
       "    <tr>\n",
       "      <th>4</th>\n",
       "      <td>10082597</td>\n",
       "      <td>467101</td>\n",
       "      <td>METHODS: We report two cases of pseudoporphyri...</td>\n",
       "      <td>1</td>\n",
       "    </tr>\n",
       "  </tbody>\n",
       "</table>\n",
       "</div>"
      ],
      "text/plain": [
       "     UserId  TweetId                                              Tweet  \\\n",
       "0  10030778   413205      Intravenous azithromycin-induced ototoxicity.   \n",
       "1  10048291   528244  Immobilization, while Paget's bone disease was...   \n",
       "2  10048291   361834  Unaccountable severe hypercalcemia in a patien...   \n",
       "3  10082597   292240  METHODS: We report two cases of pseudoporphyri...   \n",
       "4  10082597   467101  METHODS: We report two cases of pseudoporphyri...   \n",
       "\n",
       "   ADR_label  \n",
       "0          1  \n",
       "1          1  \n",
       "2          1  \n",
       "3          1  \n",
       "4          1  "
      ]
     },
     "execution_count": 3,
     "metadata": {},
     "output_type": "execute_result"
    }
   ],
   "source": [
    "# Load the data set \n",
    "df = pd.read_csv(\"Data.csv\")\n",
    "df.head()"
   ]
  },
  {
   "cell_type": "code",
   "execution_count": 4,
   "metadata": {},
   "outputs": [
    {
     "name": "stdout",
     "output_type": "stream",
     "text": [
      "<class 'pandas.core.frame.DataFrame'>\n",
      "RangeIndex: 23516 entries, 0 to 23515\n",
      "Data columns (total 4 columns):\n",
      " #   Column     Non-Null Count  Dtype \n",
      "---  ------     --------------  ----- \n",
      " 0   UserId     23516 non-null  int64 \n",
      " 1   TweetId    23516 non-null  int64 \n",
      " 2   Tweet      23516 non-null  object\n",
      " 3   ADR_label  23516 non-null  int64 \n",
      "dtypes: int64(3), object(1)\n",
      "memory usage: 735.0+ KB\n"
     ]
    }
   ],
   "source": [
    "# let us quickly validate the data \n",
    "df.info()"
   ]
  },
  {
   "cell_type": "code",
   "execution_count": 5,
   "metadata": {},
   "outputs": [
    {
     "data": {
      "text/plain": [
       "0"
      ]
     },
     "execution_count": 5,
     "metadata": {},
     "output_type": "execute_result"
    }
   ],
   "source": [
    "# Check if any observation is null/ empty in tweet colum\n",
    "df['Tweet'].isnull().sum().sum()"
   ]
  },
  {
   "cell_type": "code",
   "execution_count": 6,
   "metadata": {
    "scrolled": true
   },
   "outputs": [
    {
     "data": {
      "text/plain": [
       "<matplotlib.axes._subplots.AxesSubplot at 0x7fdcc42a6190>"
      ]
     },
     "execution_count": 6,
     "metadata": {},
     "output_type": "execute_result"
    },
    {
     "data": {
      "image/png": "[encoded data removed]",
      "text/plain": [
       "<Figure size 432x288 with 1 Axes>"
      ]
     },
     "metadata": {
      "needs_background": "light"
     },
     "output_type": "display_data"
    }
   ],
   "source": [
    "# Visualize the target value how the values are distributed \n",
    "import matplotlib.pyplot as plt\n",
    "(df['ADR_label']).value_counts()\n",
    "(df['ADR_label']).value_counts().plot(kind = 'bar')"
   ]
  },
  {
   "cell_type": "markdown",
   "metadata": {},
   "source": [
    "Text processing: It is not extensive list of processing, This is very basic. I will introduce advance techniques in upcoming projects. This is only for beginners. "
   ]
  },
  {
   "cell_type": "code",
   "execution_count": 7,
   "metadata": {},
   "outputs": [
    {
     "data": {
      "text/plain": [
       "0            intravenous azithromycin-induced ototoxicity.\n",
       "1        immobilization, while paget's bone disease was...\n",
       "2        unaccountable severe hypercalcemia in a patien...\n",
       "3        methods: we report two cases of pseudoporphyri...\n",
       "4        methods: we report two cases of pseudoporphyri...\n",
       "                               ...                        \n",
       "23511    at autopsy, the liver was found to be small, s...\n",
       "23512    physical exam revealed a patient with aphasia,...\n",
       "23513    at the time when the leukemia appeared seven o...\n",
       "23514    the american society for regional anesthesia a...\n",
       "23515    concomitant administration of estradiol result...\n",
       "Name: Tweet, Length: 23516, dtype: object"
      ]
     },
     "execution_count": 7,
     "metadata": {},
     "output_type": "execute_result"
    }
   ],
   "source": [
    "# Change Tweet column data to the lower case \n",
    "df['Tweet'] = df['Tweet'].apply(lambda x: \" \".join(x.lower()\n",
    "for x in x.split()))\n",
    "df['Tweet']"
   ]
  },
  {
   "cell_type": "code",
   "execution_count": 8,
   "metadata": {},
   "outputs": [
    {
     "data": {
      "text/plain": [
       "0              intravenous azithromycininduced ototoxicity\n",
       "1        immobilization while pagets bone disease was p...\n",
       "2        unaccountable severe hypercalcemia in a patien...\n",
       "3        methods we report two cases of pseudoporphyria...\n",
       "4        methods we report two cases of pseudoporphyria...\n",
       "                               ...                        \n",
       "23511    at autopsy the liver was found to be small shr...\n",
       "23512    physical exam revealed a patient with aphasia ...\n",
       "23513    at the time when the leukemia appeared seven o...\n",
       "23514    the american society for regional anesthesia a...\n",
       "23515    concomitant administration of estradiol result...\n",
       "Name: Tweet, Length: 23516, dtype: object"
      ]
     },
     "execution_count": 8,
     "metadata": {},
     "output_type": "execute_result"
    }
   ],
   "source": [
    "# Remove the punctactaion \n",
    "df['Tweet'] = df['Tweet'].str.replace('[^\\w\\s]',\"\")\n",
    "df['Tweet']"
   ]
  },
  {
   "cell_type": "code",
   "execution_count": 9,
   "metadata": {},
   "outputs": [
    {
     "data": {
      "text/plain": [
       "0              intravenous azithromycininduced ototoxicity\n",
       "1        immobilization pagets bone disease present per...\n",
       "2        unaccountable severe hypercalcemia patient tre...\n",
       "3        methods report two cases pseudoporphyria cause...\n",
       "4        methods report two cases pseudoporphyria cause...\n",
       "                               ...                        \n",
       "23511    autopsy liver found small shrunken scarred his...\n",
       "23512    physical exam revealed patient aphasia tremor ...\n",
       "23513    time leukemia appeared seven patients complete...\n",
       "23514    american society regional anesthesia pain medi...\n",
       "23515    concomitant administration estradiol resulted ...\n",
       "Name: Tweet, Length: 23516, dtype: object"
      ]
     },
     "execution_count": 9,
     "metadata": {},
     "output_type": "execute_result"
    }
   ],
   "source": [
    "# Remove the stopwords from the tweets by using stopwords from nltk\n",
    "from nltk.corpus import stopwords\n",
    "stop = stopwords.words('english')\n",
    "df['Tweet'] = df['Tweet'].apply(lambda x: \" \".join(x for x in x.split() if x not in stop))\n",
    "df['Tweet']"
   ]
  },
  {
   "cell_type": "markdown",
   "metadata": {},
   "source": [
    "### Split data for test and train \n",
    "I am doing it here, you can do it later as well."
   ]
  },
  {
   "cell_type": "code",
   "execution_count": 10,
   "metadata": {},
   "outputs": [],
   "source": [
    "# Split the data into training and testing using sklearn\n",
    "from sklearn.model_selection import train_test_split\n",
    "X_train, X_test, y_train, y_test = train_test_split(df['Tweet'], df['ADR_label'], test_size=0.2, random_state=0)\n",
    "\n",
    "# 20% data is used for testing and 80% for training"
   ]
  },
  {
   "cell_type": "markdown",
   "metadata": {},
   "source": [
    "### Vectorization of the text\n",
    "\n",
    "Machines does not understand text,  they only understand numbers. So we need to transform our text into numbers. In order to do so, we need to use vectorization techniques, \n",
    "\n",
    "There are many. I am using TF-IDF here.\n"
   ]
  },
  {
   "cell_type": "code",
   "execution_count": 11,
   "metadata": {},
   "outputs": [],
   "source": [
    "# Feature engineering using TF-IDF \n",
    "from sklearn.feature_extraction.text import TfidfVectorizer\n",
    "from sklearn import preprocessing\n",
    "\n",
    "encoder = preprocessing.LabelEncoder()\n",
    "Y_train = encoder.fit_transform(y_train)\n",
    "Y_test = encoder.fit_transform(y_test)\n",
    "tfidf_vect = TfidfVectorizer(analyzer='word',token_pattern=r'\\w{1,}', max_features=5000)\n",
    "tfidf_vect.fit(df['Tweet'])\n",
    "xtrain_tfidf = tfidf_vect.transform(X_train)\n",
    "xtest_tfidf = tfidf_vect.transform(X_test)"
   ]
  },
  {
   "cell_type": "code",
   "execution_count": 12,
   "metadata": {},
   "outputs": [
    {
     "data": {
      "text/plain": [
       "22176    volatiles assayed gas chromatographyflameioniz...\n",
       "16353    outpatient carboplatin desensitization pediatr...\n",
       "13818    symptomatology 18 paediatric cases naphthylimi...\n",
       "20822    common presenting findings somnolencelethargy ...\n",
       "Name: Tweet, dtype: object"
      ]
     },
     "execution_count": 12,
     "metadata": {},
     "output_type": "execute_result"
    }
   ],
   "source": [
    "# Validate X_train value\n",
    "# these are our orginial text\n",
    "X_train[:4]"
   ]
  },
  {
   "cell_type": "code",
   "execution_count": 13,
   "metadata": {},
   "outputs": [
    {
     "name": "stdout",
     "output_type": "stream",
     "text": [
      "  (0, 1979)\t0.7497467845813115\n",
      "  (0, 1393)\t0.6617248363254808\n"
     ]
    }
   ],
   "source": [
    "# letus look on vectorized text \n",
    "print(xtrain_tfidf[:1])\n",
    "# SO  it become a sparse matrix"
   ]
  },
  {
   "cell_type": "code",
   "execution_count": 14,
   "metadata": {},
   "outputs": [
    {
     "data": {
      "text/plain": [
       "{'intravenous': 2535,\n",
       " 'ototoxicity': 3323,\n",
       " 'immobilization': 2342,\n",
       " 'bone': 746,\n",
       " 'disease': 1478,\n",
       " 'present': 3637,\n",
       " 'perhaps': 3459,\n",
       " 'enhanced': 1667,\n",
       " 'activation': 248,\n",
       " 'rifampicin': 4047,\n",
       " 'could': 1210,\n",
       " 'led': 2661,\n",
       " 'increased': 2391,\n",
       " 'circulation': 975,\n",
       " 'severe': 4181,\n",
       " 'hypercalcemia': 2240,\n",
       " 'patient': 3419,\n",
       " 'treated': 4699,\n",
       " 'hypoparathyroidism': 2278,\n",
       " 'methods': 2924,\n",
       " 'report': 3956,\n",
       " 'two': 4744,\n",
       " 'cases': 847,\n",
       " 'pseudoporphyria': 3757,\n",
       " 'caused': 865,\n",
       " 'naproxen': 3094,\n",
       " 'common': 1056,\n",
       " 'associated': 584,\n",
       " 'clinical': 996,\n",
       " 'pattern': 3421,\n",
       " 'presentation': 3638,\n",
       " 'one': 3280,\n",
       " 'simulating': 4222,\n",
       " 'pediatric': 3432,\n",
       " 'population': 3569,\n",
       " 'results': 4007,\n",
       " '44yearold': 108,\n",
       " 'man': 2824,\n",
       " 'taking': 4501,\n",
       " 'chronic': 965,\n",
       " 'low': 2759,\n",
       " 'back': 653,\n",
       " 'pain': 3356,\n",
       " '20yearold': 52,\n",
       " 'woman': 4969,\n",
       " 'rheumatoid': 4041,\n",
       " 'arthritis': 565,\n",
       " 'presented': 3640,\n",
       " 'bullae': 782,\n",
       " 'cutaneous': 1252,\n",
       " 'face': 1830,\n",
       " 'hands': 2101,\n",
       " 'background': 654,\n",
       " 'best': 696,\n",
       " 'treat': 4697,\n",
       " 'psychotic': 3763,\n",
       " 'patients': 3420,\n",
       " 'past': 3407,\n",
       " 'clozapineinduced': 1015,\n",
       " 'agranulocytosis': 325,\n",
       " 'granulocytopenia': 2054,\n",
       " 'remains': 3938,\n",
       " 'problem': 3666,\n",
       " 'conclusion': 1104,\n",
       " 'suggest': 4409,\n",
       " 'olanzapine': 3274,\n",
       " 'may': 2856,\n",
       " 'useful': 4825,\n",
       " 'treating': 4700,\n",
       " 'without': 4966,\n",
       " 'risk': 4054,\n",
       " 'recurrence': 3887,\n",
       " 'hematologic': 2131,\n",
       " 'side': 4206,\n",
       " 'effects': 1604,\n",
       " 'prolonged': 3701,\n",
       " 'neurotoxicity': 3157,\n",
       " 'dihydropyrimidine': 1446,\n",
       " 'dehydrogenase': 1330,\n",
       " 'deficiency': 1318,\n",
       " 'describe': 1371,\n",
       " '5fu': 142,\n",
       " 'colon': 1042,\n",
       " 'cancer': 808,\n",
       " 'suffered': 4405,\n",
       " 'mucositis': 3041,\n",
       " 'desquamating': 1383,\n",
       " 'dermatitis': 1364,\n",
       " 'myelosuppression': 3078,\n",
       " 'neurologic': 3150,\n",
       " 'toxicity': 4662,\n",
       " 'required': 3965,\n",
       " 'admission': 282,\n",
       " 'intensive': 2487,\n",
       " 'care': 836,\n",
       " 'unit': 4790,\n",
       " 'case': 846,\n",
       " 'suggests': 4413,\n",
       " 'derivative': 1360,\n",
       " 'cytosine': 1281,\n",
       " 'arabinoside': 541,\n",
       " 'cause': 864,\n",
       " 'reversible': 4031,\n",
       " 'encephalopathy': 1649,\n",
       " 'syndrome': 4478,\n",
       " '16yearold': 32,\n",
       " 'girl': 2012,\n",
       " 'acute': 253,\n",
       " 'myelogenous': 3073,\n",
       " 'leukemia': 2681,\n",
       " 'aml': 402,\n",
       " 'undergoing': 4773,\n",
       " 'consolidation': 1151,\n",
       " 'chemotherapy': 935,\n",
       " 'composed': 1085,\n",
       " 'followed': 1916,\n",
       " 'relapse': 3920,\n",
       " 'hepatitis': 2159,\n",
       " 'developed': 1400,\n",
       " 'recommended': 3875,\n",
       " 'dose': 1525,\n",
       " '100': 11,\n",
       " 'mg': 2932,\n",
       " 'daily': 1285,\n",
       " '7': 164,\n",
       " '4': 97,\n",
       " 'weeks': 4941,\n",
       " 'respectively': 3985,\n",
       " 'lupuslike': 2775,\n",
       " '5aminosalicylic': 139,\n",
       " 'acid': 229,\n",
       " 'inflammatory': 2435,\n",
       " 'bowel': 752,\n",
       " 'although': 384,\n",
       " 'local': 2740,\n",
       " 'usually': 4829,\n",
       " 'methemoglobinemia': 2920,\n",
       " 'suspect': 4454,\n",
       " 'displacement': 1484,\n",
       " 'lidocaine': 2696,\n",
       " 'protein': 3731,\n",
       " 'binding': 712,\n",
       " 'bupivacaine': 785,\n",
       " 'combination': 1050,\n",
       " 'metabolic': 2905,\n",
       " 'acidosis': 232,\n",
       " 'treatment': 4701,\n",
       " 'reason': 3851,\n",
       " 'development': 1402,\n",
       " 'axillary': 640,\n",
       " 'block': 734,\n",
       " 'additional': 262,\n",
       " 'injection': 2464,\n",
       " 'operative': 3287,\n",
       " 'field': 1876,\n",
       " 'renal': 3947,\n",
       " 'failure': 1839,\n",
       " 'ischemic': 2570,\n",
       " 'heart': 2123,\n",
       " 'clinically': 997,\n",
       " 'significant': 4212,\n",
       " 'detection': 1393,\n",
       " 'activated': 247,\n",
       " 'eosinophils': 1690,\n",
       " 'nasal': 3098,\n",
       " 'polyps': 3563,\n",
       " 'asthma': 590,\n",
       " 'episode': 1700,\n",
       " 'subacute': 4376,\n",
       " 'infusion': 2443,\n",
       " 'moderate': 2996,\n",
       " 'methotrexate': 2925,\n",
       " 'mgm2': 2939,\n",
       " 'mtx': 3034,\n",
       " 'reported': 3957,\n",
       " 'young': 4988,\n",
       " 'adult': 291,\n",
       " 'gastric': 1981,\n",
       " 'believe': 687,\n",
       " 'represents': 3962,\n",
       " 'unusual': 4806,\n",
       " 'mtxinduced': 3035,\n",
       " 'previously': 3656,\n",
       " 'life': 2697,\n",
       " 'threatening': 4578,\n",
       " 'effect': 1600,\n",
       " 'epoprostenol': 1706,\n",
       " 'pulmonary': 3773,\n",
       " 'edema': 1596,\n",
       " 'hypertension': 2256,\n",
       " 'limited': 2708,\n",
       " 'scleroderma': 4111,\n",
       " 'discuss': 1474,\n",
       " 'management': 2827,\n",
       " 'potential': 3595,\n",
       " 'etiology': 1741,\n",
       " '14yearold': 27,\n",
       " 'newly': 3170,\n",
       " 'diagnosed': 1415,\n",
       " 'sle': 4244,\n",
       " 'pruritic': 3751,\n",
       " 'bullous': 783,\n",
       " 'eruption': 1718,\n",
       " 'prednisone': 3617,\n",
       " 'interstitial': 2506,\n",
       " 'pneumonitis': 3549,\n",
       " 'essential': 1728,\n",
       " 'thrombocythemia': 4586,\n",
       " 'course': 1214,\n",
       " 'induced': 2411,\n",
       " 'hydroxyurea': 2236,\n",
       " 'first': 1885,\n",
       " 'literature': 2728,\n",
       " 'allergic': 355,\n",
       " 'contact': 1158,\n",
       " 'r': 3808,\n",
       " 'skin': 4242,\n",
       " 'whereas': 4951,\n",
       " 'reactions': 3845,\n",
       " 'less': 2675,\n",
       " 'observation': 3234,\n",
       " 'different': 1433,\n",
       " 'testing': 4545,\n",
       " 'doses': 1528,\n",
       " 'including': 2388,\n",
       " 'lower': 2761,\n",
       " 'help': 2126,\n",
       " 'type': 4745,\n",
       " 'reaction': 3844,\n",
       " 'myotonia': 3087,\n",
       " 'sarcoidosis': 4093,\n",
       " 'marked': 2843,\n",
       " 'exacerbation': 1764,\n",
       " 'animals': 459,\n",
       " 'frequently': 1942,\n",
       " 'synergistic': 4481,\n",
       " 'manner': 2838,\n",
       " 'produce': 3674,\n",
       " 'humans': 2227,\n",
       " 'hypersensitivity': 2254,\n",
       " 'aspirin': 577,\n",
       " 'manifested': 2835,\n",
       " 'urticaria': 4819,\n",
       " 'andor': 437,\n",
       " 'angioedema': 445,\n",
       " 'systemic': 4487,\n",
       " 'anaphylactoid': 430,\n",
       " 'fixed': 1890,\n",
       " 'drug': 1548,\n",
       " 'many': 2841,\n",
       " 'drugs': 1552,\n",
       " 'omeprazole': 3278,\n",
       " 'objective': 3231,\n",
       " 'occurred': 3250,\n",
       " '26yearold': 65,\n",
       " 'japanese': 2588,\n",
       " 'receiving': 3859,\n",
       " 'medical': 2874,\n",
       " 'attention': 611,\n",
       " 'ulcerative': 4758,\n",
       " 'colitis': 1038,\n",
       " 'year': 4983,\n",
       " 'diffuse': 1441,\n",
       " 'erythema': 1720,\n",
       " 'pustules': 3784,\n",
       " 'trunk': 4727,\n",
       " 'malaise': 2813,\n",
       " 'fever': 1869,\n",
       " '39': 93,\n",
       " 'degrees': 1327,\n",
       " 'c': 794,\n",
       " 'day': 1295,\n",
       " 'administration': 280,\n",
       " 'salazosulfapyridine': 4084,\n",
       " 'generalized': 2000,\n",
       " 'summary': 4428,\n",
       " '39yearold': 94,\n",
       " 'white': 4954,\n",
       " 'schizophrenic': 4108,\n",
       " 'elevated': 1624,\n",
       " 'serum': 4174,\n",
       " 'ck': 982,\n",
       " 'concentration': 1097,\n",
       " 'peak': 3430,\n",
       " 'iul': 2582,\n",
       " 'normal': 3209,\n",
       " 'discussion': 1477,\n",
       " 'like': 2701,\n",
       " 'atypical': 614,\n",
       " 'antipsychotic': 504,\n",
       " 'muscle': 3050,\n",
       " 'injury': 2468,\n",
       " 'concomitant': 1106,\n",
       " 'elevations': 1626,\n",
       " 'origin': 3310,\n",
       " 'elevation': 1625,\n",
       " 'creatine': 1223,\n",
       " 'kinase': 2614,\n",
       " 'therapy': 4556,\n",
       " 'history': 2196,\n",
       " '5': 120,\n",
       " 'started': 4318,\n",
       " 'increasing': 2393,\n",
       " 'joints': 2595,\n",
       " '2cda': 72,\n",
       " 'induces': 2412,\n",
       " 'explain': 1802,\n",
       " 'improvement': 2376,\n",
       " 'psoriasis': 3759,\n",
       " 'priapism': 3657,\n",
       " 'heparin': 2155,\n",
       " 'previous': 3655,\n",
       " 'surgical': 4446,\n",
       " 'operation': 3286,\n",
       " 'knee': 2616,\n",
       " 'complication': 1081,\n",
       " 'association': 585,\n",
       " 'often': 3269,\n",
       " 'recognized': 3871,\n",
       " 'abnormal': 195,\n",
       " 'platelet': 3536,\n",
       " 'play': 3540,\n",
       " 'role': 4064,\n",
       " 'pathogenesis': 3410,\n",
       " 'wellknown': 4946,\n",
       " 'neutropenia': 3158,\n",
       " 'immediate': 2340,\n",
       " 'discontinuation': 1469,\n",
       " 'clozapine': 1014,\n",
       " 'behind': 686,\n",
       " 'cell': 889,\n",
       " 'count': 1211,\n",
       " 'decrease': 1310,\n",
       " 'showed': 4198,\n",
       " 'variation': 4854,\n",
       " 'blood': 739,\n",
       " 'cells': 891,\n",
       " 'wbc': 4934,\n",
       " 'neutrophilic': 3161,\n",
       " 'dermatosis': 1368,\n",
       " 'promyelocytic': 3709,\n",
       " 'findings': 1883,\n",
       " 'rechallenge': 3865,\n",
       " 'supported': 4436,\n",
       " 'hair': 2092,\n",
       " 'loss': 2755,\n",
       " '37yearold': 90,\n",
       " 'female': 1863,\n",
       " 'complained': 1066,\n",
       " 'insulin': 2481,\n",
       " 'allergy': 356,\n",
       " 'complete': 1070,\n",
       " 'resolution': 3979,\n",
       " 'symptoms': 4476,\n",
       " 'standard': 4314,\n",
       " 'desensitization': 1376,\n",
       " 'particularly': 3405,\n",
       " 'protamine': 3729,\n",
       " 'occasional': 3242,\n",
       " 'wheezing': 4950,\n",
       " 'resulting': 4006,\n",
       " 'purpose': 3781,\n",
       " 'study': 4373,\n",
       " 'determine': 1396,\n",
       " 'whether': 4952,\n",
       " 'nph': 3219,\n",
       " 'well': 4944,\n",
       " 'control': 1179,\n",
       " 'regular': 3915,\n",
       " 'continued': 1167,\n",
       " 'receive': 3857,\n",
       " 'times': 4617,\n",
       " 'per': 3450,\n",
       " 'following': 1917,\n",
       " '3': 73,\n",
       " 'years': 4985,\n",
       " 'half': 2094,\n",
       " 'later': 2648,\n",
       " 'point': 3551,\n",
       " 'stopped': 4346,\n",
       " 'infant': 2418,\n",
       " 'became': 673,\n",
       " 'poorly': 3568,\n",
       " 'responsive': 3994,\n",
       " '1': 9,\n",
       " 'drop': 1544,\n",
       " 'brimonidine': 766,\n",
       " 'eye': 1824,\n",
       " 'single': 4227,\n",
       " 'apparent': 525,\n",
       " 'central': 897,\n",
       " 'nervous': 3140,\n",
       " 'system': 4486,\n",
       " 'depression': 1358,\n",
       " 'infants': 2420,\n",
       " 'use': 4823,\n",
       " 'topical': 4650,\n",
       " 'conclusions': 1105,\n",
       " 'resulted': 4005,\n",
       " 'ceftriaxone': 886,\n",
       " 'approved': 538,\n",
       " '1997': 43,\n",
       " 'media': 2870,\n",
       " 'despite': 1382,\n",
       " 'studies': 4372,\n",
       " 'documented': 1512,\n",
       " 'hepatobiliary': 2160,\n",
       " 'enzymes': 1686,\n",
       " 'transient': 4685,\n",
       " 'biliary': 710,\n",
       " 'stasis': 4320,\n",
       " 'abnormalities': 196,\n",
       " 'secondary': 4122,\n",
       " 'anterior': 466,\n",
       " 'lumbosacral': 2771,\n",
       " 'intrathecal': 2531,\n",
       " 'three': 4579,\n",
       " 'children': 943,\n",
       " 'progressive': 3694,\n",
       " 'partial': 3400,\n",
       " 'recovery': 3882,\n",
       " 'days': 1296,\n",
       " 'arsenic': 559,\n",
       " 'rapid': 3828,\n",
       " 'seen': 4134,\n",
       " 'values': 4846,\n",
       " 'reached': 3843,\n",
       " 'together': 4636,\n",
       " 'slight': 4247,\n",
       " 'peripheral': 3468,\n",
       " 'leukocytes': 2684,\n",
       " '22yearold': 56,\n",
       " 'black': 724,\n",
       " 'chills': 944,\n",
       " 'fatigue': 1851,\n",
       " 'night': 3177,\n",
       " 'tender': 4532,\n",
       " 'lymphadenopathy': 2777,\n",
       " 'macular': 2793,\n",
       " 'starting': 4319,\n",
       " 'minocycline': 2971,\n",
       " 'acne': 233,\n",
       " 'negative': 3120,\n",
       " 'viral': 4895,\n",
       " 'picture': 3517,\n",
       " 'consistent': 1148,\n",
       " 'infectious': 2427,\n",
       " 'mononucleosislike': 3010,\n",
       " 'produced': 3675,\n",
       " 'ingestion': 2446,\n",
       " 'conclude': 1102,\n",
       " 'presence': 3636,\n",
       " 'defect': 1315,\n",
       " 'combined': 1052,\n",
       " 'demonstrating': 1343,\n",
       " 'therapeutic': 4554,\n",
       " 'index': 2396,\n",
       " 'lifethreatening': 2698,\n",
       " 'known': 2619,\n",
       " 'complications': 1082,\n",
       " 'shown': 4201,\n",
       " 'subsequently': 4389,\n",
       " 'profound': 3683,\n",
       " 'dpd': 1534,\n",
       " 'ischaemic': 2568,\n",
       " 'event': 1751,\n",
       " 'venlafaxine': 4873,\n",
       " 'proposed': 3719,\n",
       " 'pathophysiological': 3416,\n",
       " 'mechanisms': 2868,\n",
       " 'events': 1752,\n",
       " 'explained': 1803,\n",
       " 'unique': 4789,\n",
       " 'pharmacological': 3489,\n",
       " 'properties': 3713,\n",
       " 'possible': 3577,\n",
       " 'cardiovascular': 835,\n",
       " 'elderly': 1613,\n",
       " 'preexisting': 3620,\n",
       " 'myocardial': 3079,\n",
       " 'ischaemia': 2567,\n",
       " 'within': 4965,\n",
       " 'week': 4939,\n",
       " 'cyclophosphamide': 1260,\n",
       " 'distinct': 1491,\n",
       " 'phenotype': 3500,\n",
       " 'document': 1510,\n",
       " 'new': 3166,\n",
       " 'utero': 4831,\n",
       " 'exposure': 1807,\n",
       " 'multiple': 3048,\n",
       " 'congenital': 1124,\n",
       " 'anomalies': 461,\n",
       " 'establish': 1729,\n",
       " 'shared': 4187,\n",
       " 'manifestations': 2834,\n",
       " 'growth': 2073,\n",
       " 'developmental': 1403,\n",
       " 'delay': 1331,\n",
       " 'craniosynostosis': 1220,\n",
       " 'blepharophimosis': 731,\n",
       " 'flat': 1894,\n",
       " 'bridge': 763,\n",
       " 'ears': 1583,\n",
       " 'distal': 1490,\n",
       " 'limb': 2704,\n",
       " 'defects': 1316,\n",
       " 'hypoplastic': 2282,\n",
       " 'thumbs': 4599,\n",
       " 'human': 2226,\n",
       " 'b': 647,\n",
       " 'exists': 1793,\n",
       " 'safety': 4082,\n",
       " 'pregnancy': 3623,\n",
       " 'serious': 4164,\n",
       " 'question': 3798,\n",
       " 'seizures': 4138,\n",
       " 'controlled': 1180,\n",
       " 'withdrawal': 4962,\n",
       " 'phenytoin': 3503,\n",
       " 'reduction': 3896,\n",
       " 'levels': 2690,\n",
       " 'paradoxical': 3379,\n",
       " 'losartan': 2754,\n",
       " 'induce': 2410,\n",
       " 'lateonset': 2647,\n",
       " 'function': 1950,\n",
       " 'recur': 3885,\n",
       " 'initial': 2458,\n",
       " 'incidence': 2383,\n",
       " 'angiotensin': 453,\n",
       " 'ii': 2319,\n",
       " 'receptor': 3862,\n",
       " 'antagonist': 464,\n",
       " 'unknown': 4794,\n",
       " 'hepatic': 2158,\n",
       " 'appeared': 529,\n",
       " 'soon': 4264,\n",
       " 'danazol': 1288,\n",
       " 'uterine': 4830,\n",
       " 'heparininduced': 2157,\n",
       " 'thrombocytopenia': 4587,\n",
       " 'rare': 3830,\n",
       " 'anticoagulation': 479,\n",
       " 'danaparoid': 1287,\n",
       " 'paucity': 3423,\n",
       " 'information': 2439,\n",
       " 'alternative': 383,\n",
       " 'strategies': 4351,\n",
       " 'cardiopulmonary': 833,\n",
       " 'bypass': 793,\n",
       " 'especially': 1727,\n",
       " 'successful': 4399,\n",
       " 'subsequent': 4388,\n",
       " 'hemorrhagic': 2151,\n",
       " 'postoperatively': 3586,\n",
       " 'child': 941,\n",
       " 'glaucoma': 2019,\n",
       " 'metastatic': 2913,\n",
       " 'breast': 759,\n",
       " 'hyperphosphatemia': 2250,\n",
       " 'sodium': 4257,\n",
       " 'phosphate': 3505,\n",
       " 'liver': 2733,\n",
       " 'dysfunction': 1568,\n",
       " 'rectal': 3883,\n",
       " 'fleet': 1896,\n",
       " 'prolongation': 3700,\n",
       " 'qt': 3794,\n",
       " 'interval': 2507,\n",
       " 'ventricular': 4878,\n",
       " 'described': 1372,\n",
       " 'amiodarone': 400,\n",
       " 'recurrent': 3889,\n",
       " 'torsades': 4654,\n",
       " 'de': 1298,\n",
       " 'pointes': 3552,\n",
       " 'emphasis': 1641,\n",
       " 'given': 2014,\n",
       " 'differentiation': 1435,\n",
       " 'diphenylhydantoin': 1453,\n",
       " 'gingival': 2011,\n",
       " 'hyperplasia': 2252,\n",
       " 'enlargement': 1671,\n",
       " '66yearold': 157,\n",
       " 'anemia': 439,\n",
       " 'due': 1560,\n",
       " 'dpenicillamine': 1537,\n",
       " 'dpen': 1536,\n",
       " 'leukopenia': 2687,\n",
       " 'markedly': 2844,\n",
       " 'cessation': 910,\n",
       " 'start': 4317,\n",
       " 'corticosteroid': 1202,\n",
       " 'vitro': 4908,\n",
       " 'inhibition': 2453,\n",
       " 'sclerosis': 4113,\n",
       " 'hematopoietic': 2134,\n",
       " '48yearold': 116,\n",
       " 'thyrotoxicosis': 4608,\n",
       " 'methimazole': 2922,\n",
       " 'postoperative': 3585,\n",
       " 'hypocalcemic': 2268,\n",
       " 'tetany': 4548,\n",
       " 'phosphosoda': 3507,\n",
       " 'preparation': 3629,\n",
       " 'alendronate': 346,\n",
       " 'describes': 1373,\n",
       " 'prescribed': 3633,\n",
       " 'hypophosphatemia': 2279,\n",
       " '2': 46,\n",
       " 'thrombotic': 4596,\n",
       " 'microangiopathy': 2946,\n",
       " 'kidneys': 2613,\n",
       " 'high': 2177,\n",
       " 'cumulative': 1244,\n",
       " 'anticancer': 474,\n",
       " 'gemcitabine': 1994,\n",
       " '61yearold': 149,\n",
       " 'cd': 878,\n",
       " 'bcell': 669,\n",
       " 'nonhodgkins': 3201,\n",
       " 'lymphoma': 2784,\n",
       " '9': 185,\n",
       " 'months': 3013,\n",
       " 'infliximab': 2436,\n",
       " 'relationship': 3924,\n",
       " 'crohns': 1231,\n",
       " 'second': 4121,\n",
       " '29yearold': 71,\n",
       " 'nodular': 3195,\n",
       " 'sclerosing': 4112,\n",
       " 'hodgkins': 2205,\n",
       " 'intoxication': 2516,\n",
       " 'neonate': 3125,\n",
       " 'cough': 1209,\n",
       " 'emergency': 1638,\n",
       " 'department': 1350,\n",
       " 'visit': 4901,\n",
       " 'hu': 2225,\n",
       " 'increase': 2390,\n",
       " 'fetal': 1867,\n",
       " 'hemoglobin': 2141,\n",
       " 'hb': 2106,\n",
       " 'f': 1828,\n",
       " 'thalassemia': 4550,\n",
       " 'four': 1934,\n",
       " 'responded': 3988,\n",
       " 'total': 4655,\n",
       " 'symptomatic': 4474,\n",
       " 'transfusions': 4684,\n",
       " 'responses': 3992,\n",
       " 'achieved': 227,\n",
       " 'mgkgday': 2937,\n",
       " 'higher': 2179,\n",
       " 'mild': 2957,\n",
       " 'increases': 2392,\n",
       " 'added': 259,\n",
       " 'failed': 1838,\n",
       " 'lowdose': 2760,\n",
       " 'sufficiently': 4408,\n",
       " 'need': 3115,\n",
       " 'response': 3991,\n",
       " 'determined': 1397,\n",
       " 'decreased': 1311,\n",
       " 'transfusion': 4683,\n",
       " 'needs': 3118,\n",
       " 'five': 1888,\n",
       " 'alone': 367,\n",
       " 'schizophrenia': 4107,\n",
       " 'gradually': 2046,\n",
       " 'oolong': 3283,\n",
       " 'tea': 4518,\n",
       " 'eventually': 1753,\n",
       " '15': 28,\n",
       " 'l': 2621,\n",
       " 'admitted': 283,\n",
       " 'psychiatric': 3761,\n",
       " 'hospital': 2212,\n",
       " 'delirium': 1335,\n",
       " 'resolved': 3981,\n",
       " 'rhabdomyolysis': 4038,\n",
       " 'massive': 2849,\n",
       " 'caffeine': 795,\n",
       " 'coexisting': 1028,\n",
       " 'hyponatremia': 2277,\n",
       " 'mainly': 2801,\n",
       " 'responsible': 3993,\n",
       " 'occasions': 3244,\n",
       " 'possibility': 3576,\n",
       " 'considered': 1144,\n",
       " 'water': 4930,\n",
       " 'hypothesize': 2287,\n",
       " 'injured': 2466,\n",
       " 'potassium': 3593,\n",
       " 'depletion': 1354,\n",
       " 'result': 4003,\n",
       " 'unusually': 4807,\n",
       " 'addition': 261,\n",
       " 'citalopram': 981,\n",
       " 'plasma': 3533,\n",
       " 'level': 2689,\n",
       " 'observed': 3236,\n",
       " 'infected': 2424,\n",
       " 'experienced': 1798,\n",
       " 'shortly': 4193,\n",
       " 'antiretroviral': 506,\n",
       " 'protease': 3730,\n",
       " 'inhibitor': 2454,\n",
       " 'indinavir': 2403,\n",
       " 'risperidone': 4056,\n",
       " 'discontinued': 1471,\n",
       " 'triglyceride': 4717,\n",
       " 'switched': 4468,\n",
       " 'valproate': 4842,\n",
       " 'hypotension': 2283,\n",
       " 'status': 4324,\n",
       " 'epilepticus': 1697,\n",
       " 'knowledge': 2618,\n",
       " 'used': 4824,\n",
       " '11yearold': 19,\n",
       " 'rippling': 4052,\n",
       " 'phenomena': 3496,\n",
       " 'worsened': 4975,\n",
       " 'pyridostigmine': 3789,\n",
       " 'improved': 2375,\n",
       " 'immunosuppression': 2359,\n",
       " 'azathioprine': 644,\n",
       " 'diagnosis': 1417,\n",
       " 'theophylline': 4552,\n",
       " 'poisoning': 3554,\n",
       " 'similar': 4217,\n",
       " 'situations': 4235,\n",
       " 'involving': 2554,\n",
       " 'requirements': 3966,\n",
       " 'excluded': 1783,\n",
       " 'finally': 1881,\n",
       " 'mimicking': 2963,\n",
       " 'diabetic': 1413,\n",
       " 'ketoacidosis': 2608,\n",
       " 'compound': 1086,\n",
       " 'adults': 292,\n",
       " 'home': 2206,\n",
       " 'accidental': 213,\n",
       " 'methylene': 2927,\n",
       " 'blue': 740,\n",
       " 'prevention': 3653,\n",
       " '12': 20,\n",
       " 'review': 4032,\n",
       " 'ten': 4530,\n",
       " 'ifosfamide': 2314,\n",
       " 'develop': 1399,\n",
       " 'effective': 1601,\n",
       " 'portal': 3572,\n",
       " 'vein': 4870,\n",
       " 'thrombosis': 4595,\n",
       " 'haemophilia': 2090,\n",
       " 'mutation': 3055,\n",
       " 'continuous': 1170,\n",
       " 'viii': 4890,\n",
       " 'thrombolysis': 4592,\n",
       " 'boy': 753,\n",
       " '60yearold': 148,\n",
       " 'diabetes': 1412,\n",
       " 'mellitus': 2885,\n",
       " 'illness': 2329,\n",
       " '6': 145,\n",
       " 'initiation': 2462,\n",
       " 'strongly': 4365,\n",
       " 'misdiagnosed': 2976,\n",
       " 'description': 1375,\n",
       " 'idiosyncratic': 2308,\n",
       " 'adverse': 296,\n",
       " 'metabolites': 2908,\n",
       " 'caution': 869,\n",
       " 'therefore': 4559,\n",
       " 'needed': 3116,\n",
       " 'prevent': 3650,\n",
       " 'accumulation': 218,\n",
       " 'tca': 4515,\n",
       " 'lead': 2655,\n",
       " 'protracted': 3739,\n",
       " 'cushings': 1251,\n",
       " 'persisted': 3475,\n",
       " 'concentrations': 1098,\n",
       " 'remained': 3936,\n",
       " 'detectable': 1391,\n",
       " 'least': 2660,\n",
       " '80': 179,\n",
       " '200': 48,\n",
       " 'cortisol': 1205,\n",
       " 'acth': 240,\n",
       " 'limits': 2710,\n",
       " 'impaired': 2362,\n",
       " 'lung': 2772,\n",
       " 'computed': 1093,\n",
       " 'tomographic': 4641,\n",
       " 'scans': 4103,\n",
       " 'condition': 1110,\n",
       " 'nitrofurantoin': 3184,\n",
       " 'withdrawn': 4963,\n",
       " 'commenced': 1053,\n",
       " 'bronchiolitis': 772,\n",
       " 'obliterans': 3233,\n",
       " 'pneumonia': 3547,\n",
       " 'histories': 2195,\n",
       " 'histological': 2188,\n",
       " 'features': 1857,\n",
       " 'boop': 747,\n",
       " 'recognised': 3868,\n",
       " 'form': 1925,\n",
       " 'outcome': 3324,\n",
       " 'fatal': 1850,\n",
       " 'spectrum': 4283,\n",
       " 'continues': 1168,\n",
       " 'middle': 2953,\n",
       " 'aged': 311,\n",
       " 'women': 4970,\n",
       " 'respiratory': 3986,\n",
       " 'view': 4887,\n",
       " 'wide': 4957,\n",
       " 'variety': 4859,\n",
       " 'pathological': 3414,\n",
       " 'emerged': 1636,\n",
       " 'levodopa': 2691,\n",
       " 'refractory': 3903,\n",
       " 'akathisia': 338,\n",
       " 'interferonalpha': 2496,\n",
       " 'illustrates': 2332,\n",
       " 'also': 375,\n",
       " 'would': 4977,\n",
       " 'reducing': 3895,\n",
       " 'myeloma': 3075,\n",
       " 'plus': 3545,\n",
       " 'carcinoma': 829,\n",
       " 'men': 2891,\n",
       " 'change': 918,\n",
       " 'agent': 313,\n",
       " 'longterm': 2749,\n",
       " 'ibuprofen': 2296,\n",
       " 'overdose': 3337,\n",
       " 'reversed': 4030,\n",
       " 'naloxone': 3092,\n",
       " 'characterized': 926,\n",
       " 'gi': 2009,\n",
       " 'dizziness': 1504,\n",
       " 'sedation': 4129,\n",
       " 'requires': 3967,\n",
       " 'supportive': 4437,\n",
       " 'resolve': 3980,\n",
       " '24': 59,\n",
       " '48': 115,\n",
       " 'hours': 2219,\n",
       " 'depressed': 1357,\n",
       " 'consciousness': 1132,\n",
       " 'whose': 4956,\n",
       " 'mental': 2898,\n",
       " 'flecainide': 1895,\n",
       " 'probably': 3665,\n",
       " 'related': 3922,\n",
       " 'disorder': 1482,\n",
       " 'sagittal': 4083,\n",
       " 'sinus': 4228,\n",
       " 'free': 1939,\n",
       " 'lasparaginase': 2640,\n",
       " 'lymphoblastic': 2778,\n",
       " 'repeated': 3951,\n",
       " 'attacks': 607,\n",
       " 'seizure': 4137,\n",
       " 'adolescent': 284,\n",
       " 'benign': 692,\n",
       " 'intracranial': 2521,\n",
       " 'vaccination': 4838,\n",
       " 'suspected': 4455,\n",
       " 'smoking': 4253,\n",
       " 'fibrosis': 1874,\n",
       " 'might': 2954,\n",
       " 'highdose': 2178,\n",
       " 'intracoronary': 2520,\n",
       " 'nitroglycerin': 3185,\n",
       " 'coronary': 1193,\n",
       " 'catheter': 855,\n",
       " 'vasospasm': 4867,\n",
       " 'however': 2220,\n",
       " 'date': 1294,\n",
       " 'onset': 3282,\n",
       " 'temporally': 4528,\n",
       " 'variable': 4852,\n",
       " 'hepatotoxicity': 2164,\n",
       " 'troglitazone': 4723,\n",
       " 'specific': 4279,\n",
       " 'currently': 1249,\n",
       " 'trials': 4709,\n",
       " 'able': 194,\n",
       " 'provide': 3742,\n",
       " 'benefits': 691,\n",
       " 'demonstrate': 1340,\n",
       " 'irreversible': 2563,\n",
       " 'fulminant': 1948,\n",
       " 'apparently': 526,\n",
       " 'ct': 1240,\n",
       " 'hrct': 2222,\n",
       " 'widespread': 4959,\n",
       " 'parenchyma': 3388,\n",
       " 'thought': 4577,\n",
       " 'represent': 3960,\n",
       " 'established': 1730,\n",
       " 'death': 1299,\n",
       " 'cytochrome': 1275,\n",
       " 'p450': 3351,\n",
       " 'genetic': 2002,\n",
       " 'indicated': 2399,\n",
       " 'fluoxetine': 1903,\n",
       " 'confirmed': 1118,\n",
       " 'polymorphism': 3560,\n",
       " 'cyp2d6': 1263,\n",
       " 'gene': 1997,\n",
       " 'metabolism': 2906,\n",
       " '50yearold': 123,\n",
       " 'migraine': 2955,\n",
       " 'predominantly': 3618,\n",
       " 'occurring': 3252,\n",
       " 'around': 555,\n",
       " 'menstrual': 2897,\n",
       " 'periods': 3466,\n",
       " 'spinal': 4286,\n",
       " 'cord': 1190,\n",
       " 'lesion': 2673,\n",
       " 'infarction': 2422,\n",
       " 'temporal': 4527,\n",
       " '10yearold': 16,\n",
       " 'bilateral': 708,\n",
       " 'optic': 3295,\n",
       " 'glioma': 2021,\n",
       " 'carboplatin': 828,\n",
       " 'nine': 3180,\n",
       " 'courses': 1215,\n",
       " 'regimen': 3908,\n",
       " 'allow': 361,\n",
       " 'continue': 1166,\n",
       " 'insufficiency': 2479,\n",
       " 'maternal': 2852,\n",
       " 'nimesulide': 3178,\n",
       " 'oral': 3300,\n",
       " 'etoposide': 1742,\n",
       " 'received': 3858,\n",
       " 'multiagent': 3042,\n",
       " 'demonstrated': 1341,\n",
       " 'neuroblastoma': 3144,\n",
       " 'authors': 618,\n",
       " '18': 35,\n",
       " 'cyanamide': 1255,\n",
       " 'widely': 4958,\n",
       " 'japan': 2587,\n",
       " 'various': 4860,\n",
       " 'groundglass': 2069,\n",
       " 'bodies': 743,\n",
       " '43yearold': 106,\n",
       " 'male': 2815,\n",
       " 'alcoholic': 345,\n",
       " 'completely': 1072,\n",
       " 'general': 1998,\n",
       " 'transaminases': 4674,\n",
       " 'take': 4499,\n",
       " 'several': 4180,\n",
       " 'thin': 4566,\n",
       " 'progresses': 3691,\n",
       " 'along': 368,\n",
       " 'emergence': 1637,\n",
       " 'followup': 1919,\n",
       " 'inflammation': 2434,\n",
       " 'develops': 1404,\n",
       " 'macrolide': 2789,\n",
       " 'antibiotic': 470,\n",
       " 'tacrolimus': 4497,\n",
       " 'sudden': 4402,\n",
       " '77yearold': 174,\n",
       " 'epilepsy': 1695,\n",
       " 'probable': 3664,\n",
       " 'nonconvulsive': 3197,\n",
       " 'morphine': 3018,\n",
       " 'vertebral': 4883,\n",
       " 'metastasis': 2912,\n",
       " 'malignant': 2821,\n",
       " 'tonicclonic': 4646,\n",
       " 'minutes': 2974,\n",
       " 'spontaneous': 4295,\n",
       " 'bacterial': 659,\n",
       " 'peritonitis': 3470,\n",
       " 'intraarterial': 2517,\n",
       " 'vasopressin': 4866,\n",
       " 'dementia': 1339,\n",
       " 'consists': 1150,\n",
       " 'largely': 2636,\n",
       " 'uncontrolled': 4771,\n",
       " 'reports': 3959,\n",
       " 'chart': 928,\n",
       " 'reviews': 4035,\n",
       " 'appears': 531,\n",
       " 'managing': 2828,\n",
       " ...}"
      ]
     },
     "execution_count": 14,
     "metadata": {},
     "output_type": "execute_result"
    }
   ],
   "source": [
    "# You can look on vocublaoury of the tf-idf\n",
    "tfidf_vect.vocabulary_\n",
    "\n",
    "# this is a dictioary which tells you how the number has been assigned to the vectorzied text"
   ]
  },
  {
   "attachments": {},
   "cell_type": "markdown",
   "metadata": {},
   "source": [
    "# Building our first (baseline) model\n",
    "\n",
    "We always start with a baseline model. Baseline model is the one model which we will use as minimum accuracy  or performing matrices. From this model onwards, we will start improving the models to achieve our accuracy\n",
    "\n",
    "Since this is a binary classification problem. We will go with Logistic Regression. \n",
    "\n",
    "#### Logistic Regression "
   ]
  },
  {
   "cell_type": "code",
   "execution_count": 15,
   "metadata": {},
   "outputs": [],
   "source": [
    "# Implement Logistic Regression\n",
    "from sklearn.linear_model import LogisticRegression\n",
    "model = LogisticRegression()"
   ]
  },
  {
   "cell_type": "code",
   "execution_count": 16,
   "metadata": {},
   "outputs": [
    {
     "data": {
      "text/plain": [
       "LogisticRegression(C=1.0, class_weight=None, dual=False, fit_intercept=True,\n",
       "                   intercept_scaling=1, l1_ratio=None, max_iter=100,\n",
       "                   multi_class='auto', n_jobs=None, penalty='l2',\n",
       "                   random_state=None, solver='lbfgs', tol=0.0001, verbose=0,\n",
       "                   warm_start=False)"
      ]
     },
     "execution_count": 16,
     "metadata": {},
     "output_type": "execute_result"
    }
   ],
   "source": [
    "# Training the model\n",
    "model.fit(xtrain_tfidf, Y_train)\n",
    "\n",
    "# modelled is trained now"
   ]
  },
  {
   "cell_type": "code",
   "execution_count": 17,
   "metadata": {},
   "outputs": [
    {
     "data": {
      "text/plain": [
       "LogisticRegression(C=1.0, class_weight=None, dual=False, fit_intercept=True,\n",
       "                   intercept_scaling=1, l1_ratio=None, max_iter=100,\n",
       "                   multi_class='ovr', n_jobs=1, penalty='l2', random_state=None,\n",
       "                   solver='liblinear', tol=0.0001, verbose=0, warm_start=False)"
      ]
     },
     "execution_count": 17,
     "metadata": {},
     "output_type": "execute_result"
    }
   ],
   "source": [
    "# Model summary - This is doing nothing \n",
    "LogisticRegression(C=1.0, class_weight=None, dual=False, fit_intercept=True, intercept_scaling=1, \n",
    "                   max_iter=100, multi_class='ovr',n_jobs=1,\n",
    "                   penalty='l2', random_state=None, solver='liblinear', tol=0.0001, verbose=0, warm_start=False)\n",
    "\n",
    "# we are doing nothing here - I am just showing how it looks like\n",
    "# Here you see many values - These all values are called Hyper-parameter\n",
    "# which we will tune later on to get a bettr accuracy"
   ]
  },
  {
   "cell_type": "code",
   "execution_count": 18,
   "metadata": {},
   "outputs": [],
   "source": [
    "# Prediction - We will pass our test dataset which has been vectorized, it is not text\n",
    "predicted = model.predict(xtest_tfidf)"
   ]
  },
  {
   "cell_type": "code",
   "execution_count": 19,
   "metadata": {},
   "outputs": [
    {
     "name": "stdout",
     "output_type": "stream",
     "text": [
      "Accuracy:  0.8509778911564626\n"
     ]
    }
   ],
   "source": [
    "# Performance evalution  - Accuracy \n",
    "# we pass predicted values and true values which we know\n",
    "accuracy = metrics.accuracy_score(predicted,Y_test)\n",
    "print (\"Accuracy: \", accuracy)"
   ]
  },
  {
   "cell_type": "code",
   "execution_count": 20,
   "metadata": {},
   "outputs": [
    {
     "data": {
      "text/plain": [
       "array([1, 1, 1, ..., 0, 0, 0])"
      ]
     },
     "execution_count": 20,
     "metadata": {},
     "output_type": "execute_result"
    }
   ],
   "source": [
    "#convert Series data into array \n",
    "y_test_arr = y_test.values\n",
    "target_names= df['ADR_label'].values\n",
    "target_names\n",
    "\n",
    "# you can see that, we have 1 and 0 because we have done a label encoding\n",
    "# we need to decode these labels for end users"
   ]
  },
  {
   "cell_type": "markdown",
   "metadata": {},
   "source": [
    "### Another matrics \n",
    " Classification Report - This is really helpful matric as it tells you more information about model\n",
    " model can get baised while predicting SO having Accuracy as a matric alone will not be a good idea. \n",
    " we use one more "
   ]
  },
  {
   "cell_type": "code",
   "execution_count": 21,
   "metadata": {},
   "outputs": [
    {
     "name": "stdout",
     "output_type": "stream",
     "text": [
      "              precision    recall  f1-score   support\n",
      "\n",
      "           0       0.95      0.86      0.90      3704\n",
      "           1       0.61      0.83      0.70      1000\n",
      "\n",
      "    accuracy                           0.85      4704\n",
      "   macro avg       0.78      0.85      0.80      4704\n",
      "weighted avg       0.88      0.85      0.86      4704\n",
      "\n"
     ]
    }
   ],
   "source": [
    "# Classification report\n",
    "print(classification_report(predicted, y_test))"
   ]
  },
  {
   "cell_type": "markdown",
   "metadata": {},
   "source": [
    "### Another matrics \n",
    "Confusion matrix - This is really helpful matric as it tells you more information about model\n",
    "You get to drill down on all the target variable comtribution and see if we have not predicted it right"
   ]
  },
  {
   "cell_type": "code",
   "execution_count": 22,
   "metadata": {
    "scrolled": true
   },
   "outputs": [
    {
     "data": {
      "text/plain": [
       "array([[3168,  165],\n",
       "       [ 536,  835]])"
      ]
     },
     "execution_count": 22,
     "metadata": {},
     "output_type": "execute_result"
    }
   ],
   "source": [
    "# Confusion matrix\n",
    "conf_mat = confusion_matrix(Y_test, predicted)\n",
    "conf_mat"
   ]
  },
  {
   "cell_type": "markdown",
   "metadata": {},
   "source": [
    "# Add more models and experiments\n",
    "\n",
    "Note: We are not doing any hyper-parameter tuning. We will go with model selection and see which model provides better accuracy."
   ]
  },
  {
   "cell_type": "markdown",
   "metadata": {},
   "source": [
    "# 1. Naive Bayes"
   ]
  },
  {
   "cell_type": "code",
   "execution_count": 23,
   "metadata": {},
   "outputs": [
    {
     "data": {
      "text/plain": [
       "MultinomialNB(alpha=1.0, class_prior=None, fit_prior=True)"
      ]
     },
     "execution_count": 23,
     "metadata": {},
     "output_type": "execute_result"
    }
   ],
   "source": [
    "# Fit the training dataset on the NB classifier\n",
    "from sklearn import naive_bayes\n",
    "Naive = naive_bayes.MultinomialNB()\n",
    "Naive.fit(xtrain_tfidf,Y_train)"
   ]
  },
  {
   "cell_type": "code",
   "execution_count": 24,
   "metadata": {},
   "outputs": [],
   "source": [
    "# predict the labels on validation dataset\n",
    "predictions_NB = Naive.predict(xtest_tfidf)"
   ]
  },
  {
   "cell_type": "code",
   "execution_count": 25,
   "metadata": {},
   "outputs": [
    {
     "name": "stdout",
     "output_type": "stream",
     "text": [
      "Naive Bayes Accuracy Score ->  82.99319727891157\n"
     ]
    }
   ],
   "source": [
    "# Use accuracy_score function to get the accuracy\n",
    "print(\"Naive Bayes Accuracy Score -> \",accuracy_score(predictions_NB, Y_test)*100)"
   ]
  },
  {
   "cell_type": "code",
   "execution_count": 26,
   "metadata": {},
   "outputs": [
    {
     "name": "stdout",
     "output_type": "stream",
     "text": [
      "              precision    recall  f1-score   support\n",
      "\n",
      "           0       0.96      0.83      0.89      3855\n",
      "           1       0.52      0.84      0.64       849\n",
      "\n",
      "    accuracy                           0.83      4704\n",
      "   macro avg       0.74      0.83      0.76      4704\n",
      "weighted avg       0.88      0.83      0.84      4704\n",
      "\n"
     ]
    }
   ],
   "source": [
    "# Classification report\n",
    "print(classification_report(predictions_NB, y_test))"
   ]
  },
  {
   "cell_type": "markdown",
   "metadata": {},
   "source": [
    "## Decision:\n",
    "#### Navie Bayes is less than baseline model, we wil not consider this model\n"
   ]
  },
  {
   "cell_type": "markdown",
   "metadata": {},
   "source": [
    "# 2. SGDClassifier"
   ]
  },
  {
   "cell_type": "code",
   "execution_count": 27,
   "metadata": {},
   "outputs": [],
   "source": [
    "# Fit the training dataset on the SGDClassifier and build the pipeline\n",
    "from sklearn.linear_model import SGDClassifier\n",
    "from sklearn.pipeline import Pipeline\n",
    "from sklearn.feature_extraction.text import CountVectorizer, TfidfVectorizer, TfidfTransformer"
   ]
  },
  {
   "cell_type": "code",
   "execution_count": 28,
   "metadata": {},
   "outputs": [],
   "source": [
    "text_clf = Pipeline([\n",
    "    ('vect', CountVectorizer()),\n",
    "    ('tfidf', TfidfTransformer()),\n",
    "    ('clf', SGDClassifier(loss='hinge', penalty='l2',\n",
    "                          alpha=1e-3, random_state=42,\n",
    "                          max_iter=5, tol=None)),\n",
    "])"
   ]
  },
  {
   "cell_type": "code",
   "execution_count": 29,
   "metadata": {},
   "outputs": [
    {
     "data": {
      "text/plain": [
       "Pipeline(memory=None,\n",
       "         steps=[('vect',\n",
       "                 CountVectorizer(analyzer='word', binary=False,\n",
       "                                 decode_error='strict',\n",
       "                                 dtype=<class 'numpy.int64'>, encoding='utf-8',\n",
       "                                 input='content', lowercase=True, max_df=1.0,\n",
       "                                 max_features=None, min_df=1,\n",
       "                                 ngram_range=(1, 1), preprocessor=None,\n",
       "                                 stop_words=None, strip_accents=None,\n",
       "                                 token_pattern='(?u)\\\\b\\\\w\\\\w+\\\\b',\n",
       "                                 tokenizer=None, vocabulary=Non...\n",
       "                ('clf',\n",
       "                 SGDClassifier(alpha=0.001, average=False, class_weight=None,\n",
       "                               early_stopping=False, epsilon=0.1, eta0=0.0,\n",
       "                               fit_intercept=True, l1_ratio=0.15,\n",
       "                               learning_rate='optimal', loss='hinge',\n",
       "                               max_iter=5, n_iter_no_change=5, n_jobs=None,\n",
       "                               penalty='l2', power_t=0.5, random_state=42,\n",
       "                               shuffle=True, tol=None, validation_fraction=0.1,\n",
       "                               verbose=0, warm_start=False))],\n",
       "         verbose=False)"
      ]
     },
     "execution_count": 29,
     "metadata": {},
     "output_type": "execute_result"
    }
   ],
   "source": [
    "# Pipleline will vectoried the model so dont pass the vectoried value \n",
    "text_clf.fit(X_train,y_train) "
   ]
  },
  {
   "cell_type": "code",
   "execution_count": 30,
   "metadata": {},
   "outputs": [],
   "source": [
    "# Predict the values \n",
    "predicted = text_clf.predict(X_test)"
   ]
  },
  {
   "cell_type": "code",
   "execution_count": 31,
   "metadata": {},
   "outputs": [
    {
     "name": "stdout",
     "output_type": "stream",
     "text": [
      "SDG Accuracy Score ->  0.7323554421768708\n"
     ]
    }
   ],
   "source": [
    "# Use accuracy_score function to get the accuracy\n",
    "print(\"SDG Accuracy Score -> \",accuracy_score(predicted, Y_test))"
   ]
  },
  {
   "cell_type": "code",
   "execution_count": 32,
   "metadata": {
    "scrolled": false
   },
   "outputs": [
    {
     "name": "stdout",
     "output_type": "stream",
     "text": [
      "              precision    recall  f1-score   support\n",
      "\n",
      "           0       1.00      0.73      0.84      4580\n",
      "           1       0.09      0.95      0.16       124\n",
      "\n",
      "    accuracy                           0.73      4704\n",
      "   macro avg       0.54      0.84      0.50      4704\n",
      "weighted avg       0.97      0.73      0.82      4704\n",
      "\n"
     ]
    }
   ],
   "source": [
    "# Classification report\n",
    "print(classification_report(predicted, y_test))"
   ]
  },
  {
   "cell_type": "code",
   "execution_count": 33,
   "metadata": {},
   "outputs": [],
   "source": [
    "## Decision:\n",
    "#### SDG is less than baseline model, we wil not consider this model\n"
   ]
  },
  {
   "cell_type": "markdown",
   "metadata": {},
   "source": [
    "# 3. Random Forest Classifier"
   ]
  },
  {
   "cell_type": "code",
   "execution_count": 34,
   "metadata": {},
   "outputs": [],
   "source": [
    "# loading the RandomForest Classifier\n",
    "from sklearn.ensemble import RandomForestClassifier\n",
    "text_classifier = RandomForestClassifier()"
   ]
  },
  {
   "cell_type": "code",
   "execution_count": 35,
   "metadata": {},
   "outputs": [
    {
     "data": {
      "text/plain": [
       "RandomForestClassifier(bootstrap=True, ccp_alpha=0.0, class_weight=None,\n",
       "                       criterion='gini', max_depth=None, max_features='auto',\n",
       "                       max_leaf_nodes=None, max_samples=None,\n",
       "                       min_impurity_decrease=0.0, min_impurity_split=None,\n",
       "                       min_samples_leaf=1, min_samples_split=2,\n",
       "                       min_weight_fraction_leaf=0.0, n_estimators=100,\n",
       "                       n_jobs=None, oob_score=False, random_state=None,\n",
       "                       verbose=0, warm_start=False)"
      ]
     },
     "execution_count": 35,
     "metadata": {},
     "output_type": "execute_result"
    }
   ],
   "source": [
    "#Train the model\n",
    "text_classifier.fit(xtrain_tfidf,Y_train)"
   ]
  },
  {
   "cell_type": "code",
   "execution_count": 36,
   "metadata": {},
   "outputs": [],
   "source": [
    "# predict the labels on validation dataset\n",
    "predicted = text_classifier.predict(xtest_tfidf)"
   ]
  },
  {
   "cell_type": "code",
   "execution_count": 37,
   "metadata": {},
   "outputs": [
    {
     "name": "stdout",
     "output_type": "stream",
     "text": [
      "Random Forest Accuracy Score ->  87.9889455782313\n"
     ]
    }
   ],
   "source": [
    "# Use accuracy_score function to get the accuracy\n",
    "print(\"Random Forest Accuracy Score -> \",accuracy_score(predicted, Y_test)*100)"
   ]
  },
  {
   "cell_type": "code",
   "execution_count": 38,
   "metadata": {},
   "outputs": [
    {
     "name": "stdout",
     "output_type": "stream",
     "text": [
      "              precision    recall  f1-score   support\n",
      "\n",
      "           0       0.97      0.87      0.92      3720\n",
      "           1       0.65      0.91      0.76       984\n",
      "\n",
      "    accuracy                           0.88      4704\n",
      "   macro avg       0.81      0.89      0.84      4704\n",
      "weighted avg       0.91      0.88      0.89      4704\n",
      "\n"
     ]
    }
   ],
   "source": [
    "# Classification report\n",
    "print(classification_report(predicted, y_test))"
   ]
  },
  {
   "cell_type": "markdown",
   "metadata": {},
   "source": [
    "## Decision:\n",
    "Random Forest is performing better than baseline model, we wil consider this model\n",
    "and start tuning the model. \n",
    "\n",
    "\n",
    "### By this, we reach end of the Getting-Started-Text-Classification-project. Hope you will keep learning more. "
   ]
  },
  {
   "cell_type": "markdown",
   "metadata": {},
   "source": [
    "Next Step - See in the first section. "
   ]
  }
 ],
 "metadata": {
  "kernelspec": {
   "display_name": "Python 3",
   "language": "python",
   "name": "python3"
  },
  "language_info": {
   "codemirror_mode": {
    "name": "ipython",
    "version": 3
   },
   "file_extension": ".py",
   "mimetype": "text/x-python",
   "name": "python",
   "nbconvert_exporter": "python",
   "pygments_lexer": "ipython3",
   "version": "3.7.6"
  }
 },
 "nbformat": 4,
 "nbformat_minor": 2
}
